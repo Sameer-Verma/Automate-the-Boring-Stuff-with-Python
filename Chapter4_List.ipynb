{
 "cells": [
  {
   "cell_type": "code",
   "execution_count": 49,
   "metadata": {},
   "outputs": [],
   "source": [
    "employees=['sameer','kumar','verma']\n",
    "IDs=[12324,34545,877]"
   ]
  },
  {
   "cell_type": "code",
   "execution_count": 33,
   "metadata": {},
   "outputs": [
    {
     "data": {
      "text/plain": [
       "['sameer', 'kumar', 'verma', 12324, 34545, 877]"
      ]
     },
     "execution_count": 33,
     "metadata": {},
     "output_type": "execute_result"
    }
   ],
   "source": [
    "employees+IDs"
   ]
  },
  {
   "cell_type": "code",
   "execution_count": 35,
   "metadata": {},
   "outputs": [],
   "source": [
    "x=employees+IDs"
   ]
  },
  {
   "cell_type": "code",
   "execution_count": 38,
   "metadata": {},
   "outputs": [],
   "source": [
    "records=[['sameer','kumar','verma'],[12324,34545,877]]"
   ]
  },
  {
   "cell_type": "code",
   "execution_count": 43,
   "metadata": {},
   "outputs": [
    {
     "data": {
      "text/plain": [
       "[34545]"
      ]
     },
     "execution_count": 43,
     "metadata": {},
     "output_type": "execute_result"
    }
   ],
   "source": [
    "records[1][1:2]"
   ]
  },
  {
   "cell_type": "code",
   "execution_count": 66,
   "metadata": {},
   "outputs": [
    {
     "data": {
      "text/plain": [
       "['sameer', 'verma']"
      ]
     },
     "execution_count": 66,
     "metadata": {},
     "output_type": "execute_result"
    }
   ],
   "source": [
    "employees[1]='kumar'\n",
    "x=employees*3\n",
    "del employees[1]\n",
    "employees"
   ]
  },
  {
   "cell_type": "code",
   "execution_count": 5,
   "metadata": {},
   "outputs": [
    {
     "name": "stdout",
     "output_type": "stream",
     "text": [
      "Enter the name of cat no. 1 or enter nothing to exit the programme\n",
      "lucie\n",
      "Enter the name of cat no. 2 or enter nothing to exit the programme\n",
      "renu\n",
      "Enter the name of cat no. 3 or enter nothing to exit the programme\n",
      "chandani\n",
      "Enter the name of cat no. 4 or enter nothing to exit the programme\n",
      "makhani\n",
      "Enter the name of cat no. 5 or enter nothing to exit the programme\n",
      "lali\n",
      "Enter the name of cat no. 6 or enter nothing to exit the programme\n",
      "\n",
      " lucie\n",
      " renu\n",
      " chandani\n",
      " makhani\n",
      " lali\n"
     ]
    }
   ],
   "source": [
    "catNames=[]\n",
    "\n",
    "while True:\n",
    "    print(\"Enter the name of cat no. \" + str(len(catNames)+1) + \" or enter nothing to exit the programme\")\n",
    "    name=input()\n",
    "    if name=='':\n",
    "        break\n",
    "    catNames=catNames+[name]\n",
    "        \n",
    "for name in catNames:\n",
    "    print(' '+name)"
   ]
  },
  {
   "cell_type": "code",
   "execution_count": 14,
   "metadata": {},
   "outputs": [
    {
     "name": "stdout",
     "output_type": "stream",
     "text": [
      "index 0 name lucie\n",
      "index 1 name renu\n",
      "index 2 name chandani\n",
      "index 3 name makhani\n",
      "index 4 name lali\n"
     ]
    }
   ],
   "source": [
    "for i in range(len(catNames)):\n",
    "    print('index ' + str(i) + ' name ' + catNames[i])"
   ]
  },
  {
   "cell_type": "code",
   "execution_count": 44,
   "metadata": {},
   "outputs": [
    {
     "name": "stdout",
     "output_type": "stream",
     "text": [
      "what is the surname of current PM ?\n",
      "Modi\n",
      "bravooo!!!! that is the correct answer\n"
     ]
    }
   ],
   "source": [
    "anSwers=['Modi','Singh','Bajpai','Gandhi']\n",
    "print('what is the surname of current PM ?')\n",
    "name=input()\n",
    "if name in anSwers:\n",
    "    print('bravooo!!!! that is the correct answer')\n",
    "else:\n",
    "    print(\"have better luck next time\")"
   ]
  },
  {
   "cell_type": "code",
   "execution_count": 46,
   "metadata": {},
   "outputs": [],
   "source": [
    "Narendra, Manmohan, Atal, Sonia=anSwers"
   ]
  },
  {
   "cell_type": "code",
   "execution_count": 75,
   "metadata": {},
   "outputs": [
    {
     "name": "stdout",
     "output_type": "stream",
     "text": [
      "you are well utilizing your time\n"
     ]
    }
   ],
   "source": [
    "import random\n",
    "\n",
    "message=[\"you are deligent\",\"you are awesome\",\"you are fabulous\",\"you are well utilizing your time\"]\n",
    "\n",
    "\n",
    "print(message[random.randint(0,len(message)-1)])\n",
    "# number=int(input())\n",
    "\n",
    "# if number>=len(message):\n",
    "#     print(\"please enter any number less than \" + str(len(message)))\n",
    "# else:\n",
    "#     print(message[number])"
   ]
  },
  {
   "cell_type": "code",
   "execution_count": 166,
   "metadata": {},
   "outputs": [
    {
     "data": {
      "text/plain": [
       "'w'"
      ]
     },
     "execution_count": 166,
     "metadata": {},
     "output_type": "execute_result"
    }
   ],
   "source": [
    "message[random.randint(0,len(message)-1)].split()[random.randint(0,2)][1]"
   ]
  },
  {
   "cell_type": "code",
   "execution_count": 168,
   "metadata": {},
   "outputs": [],
   "source": [
    "veg=('orange','apple','lemon','mango','banana')\n",
    "nonVeg=['chicke','eggs','motton','fish','prons']\n",
    "\n",
    "veg2=tuple(nonVeg)\n",
    "nonVeg2=list(veg)"
   ]
  },
  {
   "cell_type": "code",
   "execution_count": 174,
   "metadata": {},
   "outputs": [
    {
     "data": {
      "text/plain": [
       "tuple"
      ]
     },
     "execution_count": 174,
     "metadata": {},
     "output_type": "execute_result"
    }
   ],
   "source": [
    "type(veg2)"
   ]
  },
  {
   "cell_type": "code",
   "execution_count": 181,
   "metadata": {},
   "outputs": [
    {
     "name": "stdout",
     "output_type": "stream",
     "text": [
      "[1, 2, 3, 4, 'hello']\n"
     ]
    }
   ],
   "source": [
    "def testing(parameter):\n",
    "    parameter.append('hello')\n",
    "    \n",
    "t2=[1,2,3,4]\n",
    "testing(t2)\n",
    "print(t2)"
   ]
  },
  {
   "cell_type": "code",
   "execution_count": 1,
   "metadata": {},
   "outputs": [],
   "source": [
    "import copy"
   ]
  },
  {
   "cell_type": "code",
   "execution_count": 14,
   "metadata": {},
   "outputs": [
    {
     "data": {
      "text/plain": [
       "['a', 'b', 'c', 'd']"
      ]
     },
     "execution_count": 14,
     "metadata": {},
     "output_type": "execute_result"
    }
   ],
   "source": [
    "spam=['a','b','c','d']\n",
    "cheese=copy.copy(spam)\n",
    "cheese[1]=54\n",
    "spam"
   ]
  },
  {
   "cell_type": "code",
   "execution_count": 26,
   "metadata": {},
   "outputs": [
    {
     "data": {
      "text/plain": [
       "[3.14, 'mousy', 'cat', 11, 'cat', True, 'julie']"
      ]
     },
     "execution_count": 26,
     "metadata": {},
     "output_type": "execute_result"
    }
   ],
   "source": [
    "spam[:2]\n",
    "bacon=[3.14, 'cat', 11, 'cat', True]\n",
    "bacon.append('julie')\n",
    "bacon.insert(1,'mousy')\n",
    "bacon"
   ]
  },
  {
   "cell_type": "code",
   "execution_count": 32,
   "metadata": {},
   "outputs": [
    {
     "name": "stdout",
     "output_type": "stream",
     "text": [
      "['apples', 'bananas', 'tofu', 'cats']\n"
     ]
    }
   ],
   "source": [
    "spam = ['apples', 'bananas', 'tofu', 'cats']\n",
    "print(spam)"
   ]
  },
  {
   "cell_type": "code",
   "execution_count": 167,
   "metadata": {},
   "outputs": [
    {
     "data": {
      "text/plain": [
       "'apples, bananas, tofu and cats'"
      ]
     },
     "execution_count": 167,
     "metadata": {},
     "output_type": "execute_result"
    }
   ],
   "source": [
    "t=['sameer','kumar','verma','roshan','singh','sodi']\n",
    "x=[]\n",
    "def concat(paraMeter):\n",
    "    for i in range(0,len(paraMeter)):\n",
    "        if i==0:\n",
    "            x.append(paraMeter[0])\n",
    "        elif i==paraMeter.index(paraMeter[-1]):\n",
    "            x.append(x[(i-1)]+' and '+paraMeter[i])\n",
    "        else:\n",
    "            x.append(x[(i-1)]+', '+paraMeter[i])\n",
    "\n",
    "        \n",
    "concat(spam)\n",
    "x[-1]"
   ]
  },
  {
   "cell_type": "code",
   "execution_count": 172,
   "metadata": {},
   "outputs": [
    {
     "data": {
      "text/plain": [
       "'apples,bananas,tofu, and cats'"
      ]
     },
     "execution_count": 172,
     "metadata": {},
     "output_type": "execute_result"
    }
   ],
   "source": [
    "def lists(perm):\n",
    "    if len(perm)==1:\n",
    "        return perm[0]\n",
    "    return '{}, and {}'.format(','.join(perm[:-1]), perm[-1]) \n",
    "\n",
    "\n",
    "lists(spam)"
   ]
  },
  {
   "cell_type": "code",
   "execution_count": 185,
   "metadata": {},
   "outputs": [],
   "source": [
    "grid = [['.', '.', '.', '.', '.', '.'],\n",
    "        ['.', 'O', 'O', '.', '.', '.'],\n",
    "        ['O', 'O', 'O', 'O', '.', '.'],\n",
    "        ['O', 'O', 'O', 'O', 'O', '.'],\n",
    "        ['.', 'O', 'O', 'O', 'O', 'O'],\n",
    "        ['O', 'O', 'O', 'O', 'O', '.'],\n",
    "        ['O', 'O', 'O', 'O', '.', '.'],\n",
    "        ['.', 'O', 'O', '.', '.', '.'],\n",
    "        ['.', '.', '.', '.', '.', '.']]"
   ]
  },
  {
   "cell_type": "code",
   "execution_count": 215,
   "metadata": {},
   "outputs": [
    {
     "name": "stdout",
     "output_type": "stream",
     "text": [
      "..OO.OO..\n",
      ".OOOOOOO.\n",
      ".OOOOOOO.\n",
      "..OOOOO..\n",
      "...OOO...\n",
      "....O....\n"
     ]
    }
   ],
   "source": [
    "for i in range(0,len(grid[0])):\n",
    "    for x in range(0,len(grid)):\n",
    "        print(grid[x][i], end=\"\")\n",
    "    print()"
   ]
  }
 ],
 "metadata": {
  "kernelspec": {
   "display_name": "Python 3",
   "language": "python",
   "name": "python3"
  },
  "language_info": {
   "codemirror_mode": {
    "name": "ipython",
    "version": 3
   },
   "file_extension": ".py",
   "mimetype": "text/x-python",
   "name": "python",
   "nbconvert_exporter": "python",
   "pygments_lexer": "ipython3",
   "version": "3.6.5"
  }
 },
 "nbformat": 4,
 "nbformat_minor": 2
}
