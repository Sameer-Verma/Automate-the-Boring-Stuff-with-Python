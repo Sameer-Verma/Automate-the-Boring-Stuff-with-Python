{
 "cells": [
  {
   "cell_type": "code",
   "execution_count": 1,
   "metadata": {},
   "outputs": [],
   "source": [
    "stuff = {'rope': 1, 'torch': 6, 'gold coin': 42, 'dagger': 1, 'arrow': 12}"
   ]
  },
  {
   "cell_type": "code",
   "execution_count": 2,
   "metadata": {},
   "outputs": [
    {
     "name": "stdout",
     "output_type": "stream",
     "text": [
      "1 rope\n",
      "6 torch\n",
      "42 gold coin\n",
      "1 dagger\n",
      "12 arrow\n",
      "total number of items are: 62\n"
     ]
    }
   ],
   "source": [
    "def displayInventory(inventory):\n",
    "    total_items=0\n",
    "    for i, j in inventory.items():\n",
    "        total_items=total_items+j\n",
    "        print(str(j)+' '+str(i))\n",
    "    print('total number of items are: '+str(total_items))\n",
    "\n",
    "displayInventory(stuff)"
   ]
  },
  {
   "cell_type": "code",
   "execution_count": 3,
   "metadata": {},
   "outputs": [],
   "source": [
    "dragonLoot = ['gold coin', 'dagger', 'gold coin', 'gold coin', 'ruby']\n",
    "inv = {'gold coin': 42, 'rope': 1}"
   ]
  },
  {
   "cell_type": "code",
   "execution_count": 4,
   "metadata": {},
   "outputs": [
    {
     "name": "stdout",
     "output_type": "stream",
     "text": [
      "45 gold coin\n",
      "1 rope\n",
      "1 dagger\n",
      "1 ruby\n",
      "total number of items are: 48\n"
     ]
    }
   ],
   "source": [
    "def addedToInventory(inventory, addedItems):\n",
    "    for i in addedItems:\n",
    "        inventory.setdefault(i,0)\n",
    "        inventory[i]+=1\n",
    "    return inventory\n",
    "    \n",
    "some=addedToInventory(inv,dragonLoot)\n",
    "displayInventory(some)"
   ]
  }
 ],
 "metadata": {
  "kernelspec": {
   "display_name": "Python 3",
   "language": "python",
   "name": "python3"
  },
  "language_info": {
   "codemirror_mode": {
    "name": "ipython",
    "version": 3
   },
   "file_extension": ".py",
   "mimetype": "text/x-python",
   "name": "python",
   "nbconvert_exporter": "python",
   "pygments_lexer": "ipython3",
   "version": "3.6.5"
  }
 },
 "nbformat": 4,
 "nbformat_minor": 2
}
