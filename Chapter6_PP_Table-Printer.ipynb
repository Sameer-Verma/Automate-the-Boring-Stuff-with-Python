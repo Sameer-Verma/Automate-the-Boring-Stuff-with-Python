{
 "cells": [
  {
   "cell_type": "code",
   "execution_count": 1,
   "metadata": {},
   "outputs": [
    {
     "name": "stdout",
     "output_type": "stream",
     "text": [
      "  apples Alice  dogs \n",
      " oranges   Bob  cats \n",
      "cherries Carol moose \n",
      "  banana David goose \n"
     ]
    }
   ],
   "source": [
    "tableData = [['apples', 'oranges', 'cherries', 'banana'],\n",
    "            ['Alice', 'Bob', 'Carol', 'David'],\n",
    "            ['dogs', 'cats', 'moose', 'goose']]\n",
    "\n",
    "def printTable(listsTable):\n",
    "    length=[0]*len(listsTable)    #creating a list of number of lists in the table with value 0 for all the items\n",
    "    lent=[0]*len(listsTable[0])   #creating a list of elements in a list with value 0 for all the items\n",
    "\n",
    "    for k in listsTable:\n",
    "        for l in range(len(k)):\n",
    "            lent[l]=len(k[l])     #now the items in list lent will be replaced with the actual len of each item in k list\n",
    "        length.append(max(lent))  #now the items in list lent will be appended with the maximum string length of each list\n",
    "    length=length[len(listsTable):] #since the length list would have 6 items with three Zeors hence taking only the last 3 items\n",
    "\n",
    "    for i in range(len(listsTable[0])):\n",
    "        for j in range(len(listsTable)):\n",
    "            print(listsTable[j][i].rjust(length[j]),end=\" \")\n",
    "        print()\n",
    "        \n",
    "printTable(tableData)"
   ]
  }
 ],
 "metadata": {
  "kernelspec": {
   "display_name": "Python 3",
   "language": "python",
   "name": "python3"
  },
  "language_info": {
   "codemirror_mode": {
    "name": "ipython",
    "version": 3
   },
   "file_extension": ".py",
   "mimetype": "text/x-python",
   "name": "python",
   "nbconvert_exporter": "python",
   "pygments_lexer": "ipython3",
   "version": "3.6.5"
  }
 },
 "nbformat": 4,
 "nbformat_minor": 2
}
