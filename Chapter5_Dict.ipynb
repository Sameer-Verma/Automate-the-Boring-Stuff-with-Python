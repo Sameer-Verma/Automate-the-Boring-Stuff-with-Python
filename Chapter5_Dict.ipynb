{
 "cells": [
  {
   "cell_type": "code",
   "execution_count": 1,
   "metadata": {},
   "outputs": [],
   "source": [
    "employee={'name':'sameer','id':1234,'Grade':'B1'}"
   ]
  },
  {
   "cell_type": "code",
   "execution_count": 2,
   "metadata": {},
   "outputs": [
    {
     "data": {
      "text/plain": [
       "{'name': 'sameer', 'id': 1234, 'Grade': 'B1', 'salary': 93724983}"
      ]
     },
     "execution_count": 2,
     "metadata": {},
     "output_type": "execute_result"
    }
   ],
   "source": [
    "employee['salary']=93724983\n",
    "employee"
   ]
  },
  {
   "cell_type": "code",
   "execution_count": 3,
   "metadata": {},
   "outputs": [],
   "source": [
    "friends={'rohan':'7 May','sohan':'8 jun','urmila':'9 oct'}"
   ]
  },
  {
   "cell_type": "code",
   "execution_count": 11,
   "metadata": {},
   "outputs": [
    {
     "name": "stdout",
     "output_type": "stream",
     "text": [
      "Enter a name to check the birthday else enter nothing\n",
      "daniel\n",
      "birthday of  daniel is 7 oct\n",
      "Enter a name to check the birthday else enter nothing\n",
      "7 oct\n",
      "we do not have any birthday for 7 oct\n",
      "what is his/her birthday\n",
      "daniel\n",
      "this has been added to the record, you can check it out\n",
      "Enter a name to check the birthday else enter nothing\n",
      "Daniel\n",
      "we do not have any birthday for Daniel\n",
      "what is his/her birthday\n",
      "daniel\n",
      "this has been added to the record, you can check it out\n",
      "Enter a name to check the birthday else enter nothing\n",
      "daniel\n",
      "birthday of  daniel is 7 oct\n",
      "Enter a name to check the birthday else enter nothing\n",
      "\n"
     ]
    }
   ],
   "source": [
    "while True:\n",
    "    print('Enter a name to check the birthday else enter nothing')\n",
    "    name=input()\n",
    "    if name=='':\n",
    "        break\n",
    "        \n",
    "    if name in friends:\n",
    "        print('birthday of  '+name+' is '+friends[name])\n",
    "    else:\n",
    "        print('we do not have any birthday for '+name)\n",
    "        print('what is his/her birthday')\n",
    "        bday=input()\n",
    "        friends[name]=bday\n",
    "        print('this has been added to the record, you can check it out')"
   ]
  },
  {
   "cell_type": "code",
   "execution_count": 29,
   "metadata": {},
   "outputs": [
    {
     "name": "stdout",
     "output_type": "stream",
     "text": [
      "key: rohan values: 7 May\n",
      "key: sohan values: 8 jun\n",
      "key: urmila values: 9 oct\n",
      "key: john values: 1 apr\n"
     ]
    }
   ],
   "source": [
    "x=list(friends.values())\n",
    "for name, day in friends.items():\n",
    "    print('key: '+name+' values: '+day)"
   ]
  },
  {
   "cell_type": "code",
   "execution_count": 5,
   "metadata": {},
   "outputs": [
    {
     "data": {
      "text/plain": [
       "{'rohan': '7 May', 'sohan': '8 jun', 'urmila': '9 oct'}"
      ]
     },
     "execution_count": 5,
     "metadata": {},
     "output_type": "execute_result"
    }
   ],
   "source": [
    "friends"
   ]
  },
  {
   "cell_type": "code",
   "execution_count": 8,
   "metadata": {},
   "outputs": [
    {
     "data": {
      "text/plain": [
       "{'rohan': '7 May', 'sohan': '8 jun', 'urmila': '9 oct', 'rakesh': '5 dec'}"
      ]
     },
     "execution_count": 8,
     "metadata": {},
     "output_type": "execute_result"
    }
   ],
   "source": [
    "friends.setdefault('rakesh','5 dec')\n",
    "friends"
   ]
  },
  {
   "cell_type": "code",
   "execution_count": 12,
   "metadata": {},
   "outputs": [
    {
     "data": {
      "text/plain": [
       "{'rohan': '7 May', 'sohan': '8 jun', 'urmila': '9 oct', 'rakesh': '5 dec'}"
      ]
     },
     "execution_count": 12,
     "metadata": {},
     "output_type": "execute_result"
    }
   ],
   "source": [
    "friends.setdefault('rakesh','5 jan')\n",
    "friends"
   ]
  },
  {
   "cell_type": "code",
   "execution_count": 17,
   "metadata": {},
   "outputs": [
    {
     "name": "stdout",
     "output_type": "stream",
     "text": [
      "{' ': 15,\n",
      " 'a': 4,\n",
      " 'b': 1,\n",
      " 'd': 3,\n",
      " 'e': 8,\n",
      " 'g': 1,\n",
      " 'h': 4,\n",
      " 'i': 3,\n",
      " 'l': 2,\n",
      " 'm': 1,\n",
      " 'n': 2,\n",
      " 'o': 3,\n",
      " 'p': 2,\n",
      " 'r': 2,\n",
      " 's': 5,\n",
      " 't': 4,\n",
      " 'u': 2,\n",
      " 'w': 5,\n",
      " 'y': 1}\n"
     ]
    }
   ],
   "source": [
    "import pprint\n",
    "\n",
    "text='this is why we all are here and we must be doing what we supposed to'\n",
    "\n",
    "count={}\n",
    "for char in text:\n",
    "    count.setdefault(char,0)\n",
    "    count[char]+=1\n",
    "    \n",
    "pprint.pprint(count)"
   ]
  },
  {
   "cell_type": "code",
   "execution_count": 12,
   "metadata": {},
   "outputs": [
    {
     "name": "stdout",
     "output_type": "stream",
     "text": [
      "{' ': 8,\n",
      " 'a': 2,\n",
      " 'b': 1,\n",
      " 'c': 1,\n",
      " 'd': 1,\n",
      " 'e': 2,\n",
      " 'f': 1,\n",
      " 'g': 1,\n",
      " 'h': 1,\n",
      " 'i': 1,\n",
      " 'j': 1,\n",
      " 'k': 1,\n",
      " 'l': 1,\n",
      " 'm': 1,\n",
      " 'n': 1,\n",
      " 'o': 4,\n",
      " 'p': 1,\n",
      " 'q': 1,\n",
      " 'r': 2,\n",
      " 's': 1,\n",
      " 't': 1,\n",
      " 'u': 2,\n",
      " 'v': 1,\n",
      " 'w': 1,\n",
      " 'x': 1,\n",
      " 'y': 1,\n",
      " 'z': 1}\n"
     ]
    }
   ],
   "source": [
    "import pprint\n",
    "message='the brown fox quick jumps over a lazy dog'\n",
    "\n",
    "count={}\n",
    "\n",
    "for char in message:\n",
    "    count.setdefault(char,0)\n",
    "    count[char]+=1\n",
    "#     count.sort()\n",
    "pprint.pprint(count)"
   ]
  },
  {
   "cell_type": "code",
   "execution_count": 13,
   "metadata": {},
   "outputs": [
    {
     "data": {
      "text/plain": [
       "dict_items([('t', 1), ('h', 1), ('e', 2), (' ', 8), ('b', 1), ('r', 2), ('o', 4), ('w', 1), ('n', 1), ('f', 1), ('x', 1), ('q', 1), ('u', 2), ('i', 1), ('c', 1), ('k', 1), ('j', 1), ('m', 1), ('p', 1), ('s', 1), ('v', 1), ('a', 2), ('l', 1), ('z', 1), ('y', 1), ('d', 1), ('g', 1)])"
      ]
     },
     "execution_count": 13,
     "metadata": {},
     "output_type": "execute_result"
    }
   ],
   "source": [
    "count.items()"
   ]
  },
  {
   "cell_type": "code",
   "execution_count": null,
   "metadata": {},
   "outputs": [],
   "source": [
    "filtteredItems=dict()\n",
    "filtteredItems2=dict()\n",
    "\n",
    "for h, i in count.items():\n",
    "    num=int(input())\n",
    "    if num=='':\n",
    "        break\n",
    "#         print('try with some number')\n",
    "        \n",
    "    if i>num:\n",
    "        filtteredItems[h]=i\n",
    "        print(filtteredItems)\n",
    "    else:\n",
    "        filtteredItems2[h]=i\n",
    "        print(filtteredItems2)"
   ]
  },
  {
   "cell_type": "code",
   "execution_count": null,
   "metadata": {},
   "outputs": [
    {
     "name": "stdout",
     "output_type": "stream",
     "text": [
      "Enter the Place Vale here: \n",
      "TopM\n",
      "Enter the Face Value here: \n",
      "O\n",
      "{'LowL': ' ',\n",
      " 'LowM': ' ',\n",
      " 'LowR': ' ',\n",
      " 'MidL': ' ',\n",
      " 'MidM': ' ',\n",
      " 'MidR': ' ',\n",
      " 'TopL': ' ',\n",
      " 'TopM': 'O',\n",
      " 'TopR': ' '}\n",
      "Enter the Place Vale here: \n"
     ]
    }
   ],
   "source": [
    "import pprint\n",
    "\n",
    "TicTacToe={'TopL':' ','TopM':' ','TopR':' ',\n",
    "           'MidL':' ','MidM':' ','MidR':' ',\n",
    "           'LowL':' ','LowM':' ','LowR':' '}\n",
    "\n",
    "def Dboard():\n",
    "    for i in range(0,len(TicTacToe)):\n",
    "        print('Enter the Place Vale here: ')\n",
    "        PVal=input()\n",
    "        print('Enter the Face Value here: ')\n",
    "        FVal=input()\n",
    "        TicTacToe[PVal]=FVal\n",
    "        pprint.pprint(TicTacToe)\n",
    "        \n",
    "Dboard()"
   ]
  },
  {
   "cell_type": "code",
   "execution_count": 38,
   "metadata": {},
   "outputs": [],
   "source": [
    "import pprint\n",
    "import sys\n",
    "\n",
    "TicTacToe={'TopL':' ','TopM':' ','TopR':' ',\n",
    "           'MidL':' ','MidM':' ','MidR':' ',\n",
    "           'LowL':' ','LowM':' ','LowR':' '}\n",
    "\n",
    "def Dboard():\n",
    "#     for i in range(0,len(TicTacToe)):\n",
    "    print('Enter the place value (or type QUIT to quit the game)')\n",
    "    PVal=input()\n",
    "    if PVal=='QUIT':\n",
    "        sys.exit()\n",
    "\n",
    "    print('Enter the face value (or type QUIT to quit the game)')\n",
    "    FVal=input()\n",
    "    if FVal=='QUIT':\n",
    "        sys.exit()\n",
    "    TicTacToe[PVal]=FVal\n",
    "#         pprint.pprint(TicTacToe)\n",
    "\n",
    "def theBoard(board):\n",
    "    for i in range(0,len(TicTacToe)):\n",
    "        Dboard()\n",
    "        print(board['TopL']+'|'+board['TopM']+'|'+board['TopR'])\n",
    "        print('-+-+-')\n",
    "        print(board['MidL']+'|'+board['MidM']+'|'+board['MidR'])\n",
    "        print('-+-+-')\n",
    "        print(board['LowL']+'|'+board['LowM']+'|'+board['LowR'])\n",
    "\n",
    "theBoard(TicTacToe)"
   ]
  },
  {
   "cell_type": "code",
   "execution_count": 37,
   "metadata": {},
   "outputs": [],
   "source": [
    "TicTacToe={'TopL':' ','TopM':' ','TopR':' ',\n",
    "           'MidL':' ','MidM':' ','MidR':' ',\n",
    "           'LowL':' ','LowM':' ','LowR':' '}\n",
    "\n",
    "def theBoard(board):\n",
    "        print(board['TopL']+'|'+board['TopM']+'|'+board['TopR'])\n",
    "        print('-+-+-')\n",
    "        print(board['MidL']+'|'+board['MidM']+'|'+board['MidR'])\n",
    "        print('-+-+-')\n",
    "        print(board['LowL']+'|'+board['LowM']+'|'+board['LowR'])\n",
    "        \n",
    "Turn='X'\n",
    "\n",
    "for i in range(len(TicTacToe)):\n",
    "    theBoard(TicTacToe)\n",
    "    print('Turn for '+Turn+' Put the place value here (or type QUIT to exit the game)')\n",
    "    PVal=input()\n",
    "    if PVal=='QUIT':\n",
    "        break\n",
    "    \n",
    "    TicTacToe[PVal]=Turn\n",
    "    if Turn=='X':\n",
    "        Turn='O'\n",
    "    else:\n",
    "        Turn='X'\n",
    "        \n",
    "theBoard(TicTacToe)    "
   ]
  },
  {
   "cell_type": "code",
   "execution_count": 17,
   "metadata": {},
   "outputs": [
    {
     "name": "stdout",
     "output_type": "stream",
     "text": [
      "The total items braught in\n",
      "Total Apples:      22\n",
      "Total Orranges:    10\n",
      "Total Chapaties:   24\n",
      "Total Bananas:     24\n",
      "Total Dhoties:     22\n",
      "Total Sheets:      4\n"
     ]
    }
   ],
   "source": [
    "guestsWithItem={'Rohan':{'apple':12,'orrange':10},\n",
    "               'Sohan':{'chapaties':24,'Banana':24},\n",
    "               'Sarita':{'apple':10,'sheets':4}}\n",
    "\n",
    "def itemsBraught(guests, item):\n",
    "    totalItem=0\n",
    "    for i, j in guests.items():\n",
    "        totalItem=totalItem+j.get(item,0)\n",
    "    return totalItem\n",
    "\n",
    "print('The total items braught in')\n",
    "print('Total Apples:      '+str(itemsBraught(guestsWithItem,'apple')))\n",
    "print('Total Orranges:    '+str(itemsBraught(guestsWithItem,'orrange')))\n",
    "print('Total Chapaties:   '+str(itemsBraught(guestsWithItem,'chapaties')))\n",
    "print('Total Bananas:     '+str(itemsBraught(guestsWithItem,'Banana')))\n",
    "print('Total Dhoties:     '+str(itemsBraught(guestsWithItem,'apple')))\n",
    "print('Total Sheets:      '+str(itemsBraught(guestsWithItem,'sheets')))"
   ]
  },
  {
   "cell_type": "code",
   "execution_count": 24,
   "metadata": {},
   "outputs": [
    {
     "data": {
      "text/plain": [
       "dict_values([{'apple': 12, 'orrange': 10}, {'chapaties': 24, 'Banana': 24}, {'apple': 10, 'sheets': 4}])"
      ]
     },
     "execution_count": 24,
     "metadata": {},
     "output_type": "execute_result"
    }
   ],
   "source": [
    "guestsWithItem.values()"
   ]
  },
  {
   "cell_type": "code",
   "execution_count": 26,
   "metadata": {},
   "outputs": [
    {
     "data": {
      "text/plain": [
       "{'rakesh': 24, 'rohan': 'black', 'nilam': 45}"
      ]
     },
     "execution_count": 26,
     "metadata": {},
     "output_type": "execute_result"
    }
   ],
   "source": [
    "testing={'rakesh':24,'rohan':'black','nilam':45}\n",
    "testing"
   ]
  },
  {
   "cell_type": "code",
   "execution_count": 27,
   "metadata": {},
   "outputs": [
    {
     "data": {
      "text/plain": [
       "{'rakesh': 24, 'rohan': 'black', 'nilam': 45, 'nilima': 88}"
      ]
     },
     "execution_count": 27,
     "metadata": {},
     "output_type": "execute_result"
    }
   ],
   "source": [
    "testing.setdefault('nilima',88)\n",
    "testing"
   ]
  },
  {
   "cell_type": "code",
   "execution_count": 44,
   "metadata": {},
   "outputs": [],
   "source": [
    "stuff = {'rope': 1, 'torch': 6, 'gold coin': 42, 'dagger': 1, 'arrow': 12}"
   ]
  },
  {
   "cell_type": "code",
   "execution_count": 45,
   "metadata": {},
   "outputs": [
    {
     "name": "stdout",
     "output_type": "stream",
     "text": [
      "1 rope\n",
      "6 torch\n",
      "42 gold coin\n",
      "1 dagger\n",
      "12 arrow\n",
      "total number of items are: 62\n"
     ]
    }
   ],
   "source": [
    "def displayInventory(inventory):\n",
    "    total_items=0\n",
    "    for i, j in inventory.items():\n",
    "        total_items=total_items+j\n",
    "        print(str(j)+' '+str(i))\n",
    "    print('total number of items are: '+str(total_items))\n",
    "\n",
    "displayInventory(stuff)"
   ]
  },
  {
   "cell_type": "code",
   "execution_count": 47,
   "metadata": {},
   "outputs": [],
   "source": [
    "dragonLoot = ['gold coin', 'dagger', 'gold coin', 'gold coin', 'ruby']\n",
    "inv = {'gold coin': 42, 'rope': 1}"
   ]
  },
  {
   "cell_type": "code",
   "execution_count": 39,
   "metadata": {},
   "outputs": [],
   "source": [
    "# def addedToInventory(inventory, addedItems):\n",
    "#     for i in addedItems:\n",
    "#         if i not in inventory:\n",
    "#             inventory.setdefault(i,1)\n",
    "#         else:\n",
    "#             inventory.setdefault(i,addedItems.count(i))\n",
    "#     return inventory\n",
    "    \n",
    "# addedToInventory(inv,dragonLoot)"
   ]
  },
  {
   "cell_type": "code",
   "execution_count": 48,
   "metadata": {},
   "outputs": [
    {
     "name": "stdout",
     "output_type": "stream",
     "text": [
      "45 gold coin\n",
      "1 rope\n",
      "1 dagger\n",
      "1 ruby\n",
      "total number of items are: 48\n"
     ]
    }
   ],
   "source": [
    "def addedToInventory(inventory, addedItems):\n",
    "    for i in addedItems:\n",
    "        inventory.setdefault(i,0)\n",
    "        inventory[i]+=1\n",
    "    return inventory\n",
    "    \n",
    "some=addedToInventory(inv,dragonLoot)\n",
    "displayInventory(some)"
   ]
  }
 ],
 "metadata": {
  "kernelspec": {
   "display_name": "Python 3",
   "language": "python",
   "name": "python3"
  },
  "language_info": {
   "codemirror_mode": {
    "name": "ipython",
    "version": 3
   },
   "file_extension": ".py",
   "mimetype": "text/x-python",
   "name": "python",
   "nbconvert_exporter": "python",
   "pygments_lexer": "ipython3",
   "version": "3.6.5"
  }
 },
 "nbformat": 4,
 "nbformat_minor": 2
}
