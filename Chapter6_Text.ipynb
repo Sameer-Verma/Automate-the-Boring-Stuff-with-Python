{
 "cells": [
  {
   "cell_type": "code",
   "execution_count": 24,
   "metadata": {},
   "outputs": [],
   "source": [
    "import pyperclip"
   ]
  },
  {
   "cell_type": "code",
   "execution_count": 1,
   "metadata": {},
   "outputs": [
    {
     "name": "stdout",
     "output_type": "stream",
     "text": [
      "this is rohan's pen and he is the \"champion\"\n"
     ]
    }
   ],
   "source": [
    "print(\"this is rohan\\'s pen and he is the \\\"champion\\\"\")"
   ]
  },
  {
   "cell_type": "code",
   "execution_count": 24,
   "metadata": {},
   "outputs": [
    {
     "name": "stdout",
     "output_type": "stream",
     "text": [
      "sameer verma is the Worl\n",
      "d's most favourite person \n",
      "and is \"the only genious on this \n",
      "            planet\" \n"
     ]
    }
   ],
   "source": [
    "print(\"\"\"sameer verma is the Worl\n",
    "d's most favourite person \n",
    "and is \"the only genious on this \n",
    "            planet\" \"\"\")"
   ]
  },
  {
   "cell_type": "code",
   "execution_count": 27,
   "metadata": {},
   "outputs": [
    {
     "name": "stdout",
     "output_type": "stream",
     "text": [
      "this is shyam\n"
     ]
    }
   ],
   "source": [
    "\"\"\"Hi how are you doing man what's the chance for India for winning the macth\"\"\"\n",
    "print('this is shyam')"
   ]
  },
  {
   "cell_type": "code",
   "execution_count": 16,
   "metadata": {},
   "outputs": [],
   "source": [
    "testing='sameer'"
   ]
  },
  {
   "cell_type": "code",
   "execution_count": 11,
   "metadata": {},
   "outputs": [
    {
     "data": {
      "text/plain": [
       "True"
      ]
     },
     "execution_count": 11,
     "metadata": {},
     "output_type": "execute_result"
    }
   ],
   "source": [
    "testing[0:6].islower()"
   ]
  },
  {
   "cell_type": "code",
   "execution_count": 18,
   "metadata": {},
   "outputs": [
    {
     "data": {
      "text/plain": [
       "True"
      ]
     },
     "execution_count": 18,
     "metadata": {},
     "output_type": "execute_result"
    }
   ],
   "source": [
    "testing.isalnum()"
   ]
  },
  {
   "cell_type": "code",
   "execution_count": 24,
   "metadata": {},
   "outputs": [
    {
     "data": {
      "text/plain": [
       "False"
      ]
     },
     "execution_count": 24,
     "metadata": {},
     "output_type": "execute_result"
    }
   ],
   "source": [
    "'This is TITLE Case'.istitle()"
   ]
  },
  {
   "cell_type": "code",
   "execution_count": 30,
   "metadata": {},
   "outputs": [
    {
     "name": "stdout",
     "output_type": "stream",
     "text": [
      "please enter your age in numbers\n",
      "23.6\n",
      "Please enter a numeric value for your age\n",
      "please enter your age in numbers\n",
      "1.2\n",
      "Please enter a numeric value for your age\n",
      "please enter your age in numbers\n",
      "11\n",
      "please enter the password which can be either alphabates, numbers or a combination of both\n",
      "111111\n"
     ]
    }
   ],
   "source": [
    "while True:\n",
    "    print('please enter your age in numbers')\n",
    "    age=input()\n",
    "    if age.isdecimal():\n",
    "        break\n",
    "    print('Please enter a numeric value for your age')\n",
    "    \n",
    "while True:\n",
    "    print('please enter the password which can be either alphabates, numbers or a combination of both')\n",
    "    password=input()\n",
    "    if password.isalnum():\n",
    "        break\n",
    "    print('Please enter the correct password')"
   ]
  },
  {
   "cell_type": "code",
   "execution_count": 41,
   "metadata": {},
   "outputs": [
    {
     "data": {
      "text/plain": [
       "['sameer kumar verma']"
      ]
     },
     "execution_count": 41,
     "metadata": {},
     "output_type": "execute_result"
    }
   ],
   "source": [
    "nameSplit='sameer kumar verma'\n",
    "nameSplit.split(';')"
   ]
  },
  {
   "cell_type": "code",
   "execution_count": 46,
   "metadata": {},
   "outputs": [
    {
     "data": {
      "text/plain": [
       "['sameer', 'kumar', 'verma']"
      ]
     },
     "execution_count": 46,
     "metadata": {},
     "output_type": "execute_result"
    }
   ],
   "source": [
    "nameJoin=['sameer','kumar','verma']\n",
    "nameJoined=' '.join(nameJoin)\n",
    "nameJoined.split()"
   ]
  },
  {
   "cell_type": "code",
   "execution_count": 2,
   "metadata": {},
   "outputs": [
    {
     "data": {
      "text/plain": [
       "['This is to let ',\n",
       " \"you know that I'll be \",\n",
       " 'sleeping in next five ',\n",
       " 'minutes']"
      ]
     },
     "execution_count": 2,
     "metadata": {},
     "output_type": "execute_result"
    }
   ],
   "source": [
    "para='''This is to let \n",
    "you know that I'll be \n",
    "sleeping in next five \n",
    "minutes'''\n",
    "para.split('\\n')"
   ]
  },
  {
   "cell_type": "code",
   "execution_count": 9,
   "metadata": {},
   "outputs": [
    {
     "data": {
      "text/plain": [
       "'*******SAMEER*******'"
      ]
     },
     "execution_count": 9,
     "metadata": {},
     "output_type": "execute_result"
    }
   ],
   "source": [
    "'SAMEER'.center(20,'*')"
   ]
  },
  {
   "cell_type": "code",
   "execution_count": 32,
   "metadata": {},
   "outputs": [
    {
     "name": "stdout",
     "output_type": "stream",
     "text": [
      "*******PICNIC ITEMS******\n",
      "Apple==================33\n",
      "Sheets==================4\n",
      "Oranges================12\n",
      "Pineapples==============6\n",
      "\n",
      "\n",
      "************PICNIC ITEMS***********\n",
      "Apple============================33\n",
      "Sheets============================4\n",
      "Oranges==========================12\n",
      "Pineapples========================6\n"
     ]
    }
   ],
   "source": [
    "def AlignTextPrint(Lwidth,Rwidth,DictItem):\n",
    "    print('PICNIC ITEMS'.center(Lwidth+Rwidth,'*'))\n",
    "    for i,j in DictItem.items():\n",
    "        print(i.ljust(Lwidth,'=')+str(j).rjust(Rwidth,'='))\n",
    "\n",
    "DictItems={'Apple':33,'Sheets':4,'Oranges':12,'Pineapples':6}\n",
    "AlignTextPrint(10,15,DictItems)\n",
    "\n",
    "print('\\n')\n",
    "\n",
    "AlignTextPrint(20,15,DictItems)"
   ]
  },
  {
   "cell_type": "code",
   "execution_count": 28,
   "metadata": {},
   "outputs": [
    {
     "data": {
      "text/plain": [
       "'sameer    '"
      ]
     },
     "execution_count": 28,
     "metadata": {},
     "output_type": "execute_result"
    }
   ],
   "source": [
    "'****sameer    '.strip('*')"
   ]
  },
  {
   "cell_type": "code",
   "execution_count": 3,
   "metadata": {},
   "outputs": [],
   "source": [
    "import sys"
   ]
  },
  {
   "cell_type": "code",
   "execution_count": 3,
   "metadata": {},
   "outputs": [
    {
     "data": {
      "text/plain": [
       "'-f'"
      ]
     },
     "execution_count": 3,
     "metadata": {},
     "output_type": "execute_result"
    }
   ],
   "source": [
    "sys.argv[1]"
   ]
  },
  {
   "cell_type": "code",
   "execution_count": 6,
   "metadata": {},
   "outputs": [],
   "source": [
    "import pyperclip"
   ]
  },
  {
   "cell_type": "code",
   "execution_count": null,
   "metadata": {},
   "outputs": [],
   "source": [
    "PASSWORDS = {'email': 'F7minlBDDuvMJuxESSKHFhTxFtjVB6',\n",
    "            'blog': 'VmALvQyKAxiVH5G8v01if1MLZF3sdt',\n",
    "            'luggage': '12345'}\n",
    "\n",
    "if len(sys.argv) < 2:\n",
    "    print('Usage: python pw.py [account] - copy account password')\n",
    "    sys.exit()"
   ]
  },
  {
   "cell_type": "code",
   "execution_count": 22,
   "metadata": {},
   "outputs": [],
   "source": [
    "text=pyperclip.paste()\n",
    "text2=text.split('\\n')\n",
    "text3=[]\n",
    "for i in text2:\n",
    "    text3.append('*'+i)\n",
    "\n",
    "text='\\n'.join(text3)\n",
    "pyperclip.copy(text)"
   ]
  },
  {
   "cell_type": "code",
   "execution_count": 23,
   "metadata": {},
   "outputs": [
    {
     "data": {
      "text/plain": [
       "'*Lists of animals\\r\\n*Lists of aquarium life\\r\\n*Lists of biologists by author abbreviation\\r\\n*Lists of cultivars'"
      ]
     },
     "execution_count": 23,
     "metadata": {},
     "output_type": "execute_result"
    }
   ],
   "source": [
    "pyperclip.paste()"
   ]
  },
  {
   "cell_type": "code",
   "execution_count": 29,
   "metadata": {},
   "outputs": [],
   "source": [
    "text=pyperclip.paste()\n",
    "text2=text.split('\\n')\n",
    "for i in range(len(text2)):\n",
    "    text2[i]='*'+text2[i]\n",
    "    \n",
    "text='\\n'.join(text2)\n",
    "pyperclip.copy(text)"
   ]
  },
  {
   "cell_type": "code",
   "execution_count": 30,
   "metadata": {},
   "outputs": [
    {
     "data": {
      "text/plain": [
       "'*Lists of animals\\r\\n*Lists of aquarium life\\r\\n*Lists of biologists by author abbreviation\\r\\n*Lists of cultivars'"
      ]
     },
     "execution_count": 30,
     "metadata": {},
     "output_type": "execute_result"
    }
   ],
   "source": [
    "pyperclip.paste()"
   ]
  },
  {
   "cell_type": "code",
   "execution_count": 35,
   "metadata": {},
   "outputs": [
    {
     "data": {
      "text/plain": [
       "'lo world!'"
      ]
     },
     "execution_count": 35,
     "metadata": {},
     "output_type": "execute_result"
    }
   ],
   "source": [
    "'Hello world!'[3:]"
   ]
  },
  {
   "cell_type": "code",
   "execution_count": 87,
   "metadata": {},
   "outputs": [],
   "source": [
    "tableData = [['apples', 'oranges', 'cherries', 'banana'],\n",
    "            ['Alice', 'Bob', 'Carol', 'David'],\n",
    "            ['dogs', 'cats', 'moose', 'goose']]"
   ]
  },
  {
   "cell_type": "code",
   "execution_count": 93,
   "metadata": {},
   "outputs": [
    {
     "name": "stdout",
     "output_type": "stream",
     "text": [
      "  apples Alice  dogs \n",
      " oranges   Bob  cats \n",
      "cherries Carol moose \n",
      "  banana David goose \n"
     ]
    }
   ],
   "source": [
    "tableData = [['apples', 'oranges', 'cherries', 'banana'],\n",
    "            ['Alice', 'Bob', 'Carol', 'David'],\n",
    "            ['dogs', 'cats', 'moose', 'goose']]\n",
    "\n",
    "def printTable(listsTable):\n",
    "    length=[0]*len(listsTable)    #creating a list of number of lists in the table with value 0 for all the items\n",
    "    lent=[0]*len(listsTable[0])   #creating a list of elements in a list with value 0 for all the items\n",
    "\n",
    "    for k in listsTable:\n",
    "        for l in range(len(k)):\n",
    "            lent[l]=len(k[l])     #now the items in list lent will be replaced with the actual len of each item in k list\n",
    "        length.append(max(lent))  #now the items in list lent will be appended with the maximum string length of each list\n",
    "    length=length[len(listsTable):] #since the length list would have 6 items with three Zeors hence taking only the last 3 items\n",
    "\n",
    "    for i in range(len(listsTable[0])):\n",
    "        for j in range(len(listsTable)):\n",
    "            print(listsTable[j][i].rjust(length[j]),end=\" \")\n",
    "        print()\n",
    "        \n",
    "printTable(tableData)"
   ]
  }
 ],
 "metadata": {
  "kernelspec": {
   "display_name": "Python 3",
   "language": "python",
   "name": "python3"
  },
  "language_info": {
   "codemirror_mode": {
    "name": "ipython",
    "version": 3
   },
   "file_extension": ".py",
   "mimetype": "text/x-python",
   "name": "python",
   "nbconvert_exporter": "python",
   "pygments_lexer": "ipython3",
   "version": "3.6.5"
  }
 },
 "nbformat": 4,
 "nbformat_minor": 2
}
