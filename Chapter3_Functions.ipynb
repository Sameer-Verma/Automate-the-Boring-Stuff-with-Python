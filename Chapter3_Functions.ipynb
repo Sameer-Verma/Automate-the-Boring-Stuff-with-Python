{
 "cells": [
  {
   "cell_type": "code",
   "execution_count": 12,
   "metadata": {},
   "outputs": [],
   "source": [
    "\n",
    "def wel(name1, name2):\n",
    "    print(name1 +' and '+ name2 +' '+'you both are welcomed here')"
   ]
  },
  {
   "cell_type": "code",
   "execution_count": 13,
   "metadata": {},
   "outputs": [
    {
     "name": "stdout",
     "output_type": "stream",
     "text": [
      "sameer and kumar you both are welcomed here\n"
     ]
    }
   ],
   "source": [
    "wel('sameer','kumar')"
   ]
  },
  {
   "cell_type": "code",
   "execution_count": 17,
   "metadata": {},
   "outputs": [
    {
     "name": "stdout",
     "output_type": "stream",
     "text": [
      "Ram and Radha you both are welcomed here\n"
     ]
    }
   ],
   "source": [
    "wel('Ram','Radha')"
   ]
  },
  {
   "cell_type": "code",
   "execution_count": 66,
   "metadata": {},
   "outputs": [
    {
     "name": "stdout",
     "output_type": "stream",
     "text": [
      "you always backups your loved ones\n"
     ]
    }
   ],
   "source": [
    "import random\n",
    "def luckyNumber(yourNumber):\n",
    "    if yourNumber==1:\n",
    "        return \"you'll be greate in your life\"\n",
    "    elif yourNumber==2:\n",
    "        return \"you always backups your loved ones\"\n",
    "    elif yourNumber==3:\n",
    "        return \"you are like 'hukam ka ekka'\"\n",
    "    elif yourNumber==4:\n",
    "        return \"you are not favourtism person\"\n",
    "    elif yourNumber==5:\n",
    "        return \"you are someone who can make imortals\"\n",
    "    elif yourNumber==6:\n",
    "        return \"sometime you are the most loved one\"\n",
    "    elif yourNumber==7:\n",
    "        return \"you are the killer man,,\"\n",
    "    \n",
    "r=random.randint(1,7)\n",
    "prediction=luckyNumber(r)\n",
    "print(prediction)"
   ]
  },
  {
   "cell_type": "code",
   "execution_count": 14,
   "metadata": {},
   "outputs": [
    {
     "name": "stdout",
     "output_type": "stream",
     "text": [
      "sameer\n"
     ]
    }
   ],
   "source": [
    "spam=print('sameer')"
   ]
  },
  {
   "cell_type": "code",
   "execution_count": 16,
   "metadata": {},
   "outputs": [
    {
     "data": {
      "text/plain": [
       "True"
      ]
     },
     "execution_count": 16,
     "metadata": {},
     "output_type": "execute_result"
    }
   ],
   "source": [
    "None==spam"
   ]
  },
  {
   "cell_type": "code",
   "execution_count": 18,
   "metadata": {},
   "outputs": [
    {
     "name": "stdout",
     "output_type": "stream",
     "text": [
      "Hello world\n"
     ]
    }
   ],
   "source": [
    "print('Hello',end=' ')\n",
    "print('world')"
   ]
  },
  {
   "cell_type": "code",
   "execution_count": 20,
   "metadata": {},
   "outputs": [
    {
     "name": "stdout",
     "output_type": "stream",
     "text": [
      "Hellow,World,Nice,Awesome\n"
     ]
    }
   ],
   "source": [
    "print('Hellow','World', 'Nice', 'Awesome', sep=',')"
   ]
  },
  {
   "cell_type": "code",
   "execution_count": 22,
   "metadata": {},
   "outputs": [
    {
     "name": "stdout",
     "output_type": "stream",
     "text": [
      "99\n"
     ]
    }
   ],
   "source": [
    "def spam():\n",
    "    eggs=99\n",
    "    bacon()\n",
    "    print(eggs)\n",
    "    \n",
    "def bacon():\n",
    "    ham=101\n",
    "    eggs=0\n",
    "    \n",
    "spam()"
   ]
  },
  {
   "cell_type": "code",
   "execution_count": 26,
   "metadata": {},
   "outputs": [
    {
     "name": "stdout",
     "output_type": "stream",
     "text": [
      "4\n"
     ]
    }
   ],
   "source": [
    "eggs=99\n",
    "def spam():\n",
    "    eggs=4\n",
    "    print(eggs)\n",
    "# eggs=99    \n",
    "spam()"
   ]
  },
  {
   "cell_type": "code",
   "execution_count": 29,
   "metadata": {},
   "outputs": [
    {
     "name": "stdout",
     "output_type": "stream",
     "text": [
      "spam\n"
     ]
    }
   ],
   "source": [
    "def ham():\n",
    "    global eggs\n",
    "    eggs='spam'\n",
    "    print(eggs)\n",
    "\n",
    "ham()"
   ]
  },
  {
   "cell_type": "code",
   "execution_count": 80,
   "metadata": {},
   "outputs": [
    {
     "name": "stdout",
     "output_type": "stream",
     "text": [
      "0\n",
      "Error on test(0): do not devide by zero\n"
     ]
    }
   ],
   "source": [
    "def test(dvideBy):\n",
    "    try:\n",
    "        return 42/dvideBy\n",
    "    except ZeroDivisionError:\n",
    "        print('Error on test(0): do not devide by zero')\n",
    "    \n",
    "# print(test(2))\n",
    "# print(test(6))\n",
    "# print(test(0))\n",
    "# print(test(8)\n",
    "\n",
    "\n",
    "number=int(input())\n",
    "test(number)"
   ]
  },
  {
   "cell_type": "code",
   "execution_count": 3,
   "metadata": {},
   "outputs": [
    {
     "name": "stdout",
     "output_type": "stream",
     "text": [
      "1\n",
      "The guessed number is lesser\n",
      "20\n",
      "The guessed number is greater\n",
      "15\n",
      "The guessed number is lesser\n",
      "19\n",
      "The guessed number is greater\n",
      "12\n",
      "The guessed number is lesser\n",
      "18\n",
      "The guessed number is greater\n",
      "Nope the I was thinking was 16\n"
     ]
    }
   ],
   "source": [
    "import random\n",
    "secreteNumber=random.randint(1,20)\n",
    "\n",
    "for guessTaken in range(1,7):\n",
    "    guess=int(input())\n",
    "    \n",
    "    if guess < secreteNumber:\n",
    "        print('The guessed number is lesser')\n",
    "    elif guess > secreteNumber:\n",
    "        print('The guessed number is greater')\n",
    "    else:\n",
    "        break\n",
    "        \n",
    "if guess==secreteNumber:\n",
    "    print(\"That's the number which matched\")\n",
    "else:\n",
    "    print(\"Nope the I was thinking was \" + str(secreteNumber))"
   ]
  },
  {
   "cell_type": "code",
   "execution_count": 31,
   "metadata": {},
   "outputs": [
    {
     "name": "stdout",
     "output_type": "stream",
     "text": [
      "I am thinking of a number between 1 and 20.\n",
      "Take a guess.\n",
      "1\n",
      "Your guess is too low.\n",
      "Take a guess.\n",
      "2\n",
      "Your guess is too low.\n",
      "Take a guess.\n",
      "5\n",
      "Your guess is too low.\n",
      "Take a guess.\n",
      "6\n",
      "Your guess is too low.\n",
      "Take a guess.\n",
      "12\n",
      "Your guess is too low.\n",
      "Take a guess.\n",
      "44\n",
      "Your guess is too high.\n",
      "Nope. The number I was thinking of was 15\n"
     ]
    }
   ],
   "source": [
    "# This is a guess the number game.\n",
    "import random\n",
    "secretNumber = random.randint(1, 20)\n",
    "print('I am thinking of a number between 1 and 20.')\n",
    "# Ask the player to guess 6 times.\n",
    "for guessesTaken in range(1, 7):\n",
    "    print('Take a guess.')\n",
    "    guess = int(input())\n",
    "    if guess < secretNumber:\n",
    "        print('Your guess is too low.')\n",
    "    elif guess > secretNumber:\n",
    "        print('Your guess is too high.')\n",
    "    else:\n",
    "        break # This condition is the correct guess!\n",
    "        \n",
    "if guess == secretNumber:\n",
    "    print('Good job! You guessed my number in ' + str(guessesTaken) + ' guesses!')\n",
    "else:\n",
    "    print('Nope. The number I was thinking of was ' + str(secretNumber))"
   ]
  },
  {
   "cell_type": "code",
   "execution_count": 20,
   "metadata": {},
   "outputs": [
    {
     "name": "stdout",
     "output_type": "stream",
     "text": [
      "enter a number here\n",
      "d\n",
      "try again with some int value\n"
     ]
    }
   ],
   "source": [
    "print('enter a number here')\n",
    "try:\n",
    "    number=int(input())\n",
    "except ValueError:\n",
    "    print(\"try again with some int value\")\n",
    "\n",
    "\n",
    "def collatz(number):\n",
    "        if number % 2 == 0:\n",
    "            print(number//2)\n",
    "            return number//2\n",
    "        else:\n",
    "            print(3*number+1)\n",
    "            return 3*number+1\n",
    "\n",
    "while number!=1:\n",
    "        number=collatz(number)"
   ]
  },
  {
   "cell_type": "code",
   "execution_count": null,
   "metadata": {},
   "outputs": [],
   "source": []
  }
 ],
 "metadata": {
  "kernelspec": {
   "display_name": "Python 3",
   "language": "python",
   "name": "python3"
  },
  "language_info": {
   "codemirror_mode": {
    "name": "ipython",
    "version": 3
   },
   "file_extension": ".py",
   "mimetype": "text/x-python",
   "name": "python",
   "nbconvert_exporter": "python",
   "pygments_lexer": "ipython3",
   "version": "3.6.5"
  }
 },
 "nbformat": 4,
 "nbformat_minor": 2
}
