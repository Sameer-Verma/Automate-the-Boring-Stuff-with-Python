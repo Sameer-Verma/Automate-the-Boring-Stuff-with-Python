{
 "cells": [
  {
   "cell_type": "code",
   "execution_count": 1,
   "metadata": {},
   "outputs": [],
   "source": [
    "import re   #importing regular expression"
   ]
  },
  {
   "cell_type": "code",
   "execution_count": 11,
   "metadata": {},
   "outputs": [
    {
     "name": "stdout",
     "output_type": "stream",
     "text": [
      "False\n"
     ]
    }
   ],
   "source": [
    "\n",
    "def isPhoneNumber(string):\n",
    "    if len(string)!=12:\n",
    "        return False\n",
    "    for i in range(0,3):\n",
    "        if not string[i].isdecimal():\n",
    "            return False\n",
    "    if string[3]!= '-':\n",
    "        return False\n",
    "    for i in range(4,7):\n",
    "        if not string[i].isdecimal():\n",
    "            return False\n",
    "    if string[7]!='-':\n",
    "        return False\n",
    "    for i in range(8,12):\n",
    "        if not string[i].isdecimal():\n",
    "            return False\n",
    "        return True\n",
    "    \n",
    "print(isPhoneNumber('c11-111-1111'))"
   ]
  },
  {
   "cell_type": "code",
   "execution_count": 12,
   "metadata": {},
   "outputs": [
    {
     "name": "stdout",
     "output_type": "stream",
     "text": [
      "detected number: 444-123-4433\n",
      "detected number: 333-555-4444\n",
      "\n"
     ]
    }
   ],
   "source": [
    "text='sameer verma 444-123-4433 and his friend 333-555-4444'\n",
    "\n",
    "for i in range(len(text)):\n",
    "    string=text[i:i+12]\n",
    "    if isPhoneNumber(string):\n",
    "        print('detected number: '+string)\n",
    "print()"
   ]
  },
  {
   "cell_type": "code",
   "execution_count": 13,
   "metadata": {
    "scrolled": true
   },
   "outputs": [
    {
     "name": "stdout",
     "output_type": "stream",
     "text": [
      "here comes the mobile number: 6384061635\n",
      "here comes the mobile number: 9654996877\n",
      "\n"
     ]
    }
   ],
   "source": [
    "#FINDING AN INDIAN MOBILE NUMBER OUT OF A COMMENT\n",
    "\n",
    "comment='customer called by 6384061635 and asked to update the number 9654996877'\n",
    "\n",
    "def isMobilenumber(number):\n",
    "    if len(number)!=10:\n",
    "        return False\n",
    "    for i in range(len(number)):\n",
    "        if not number[i].isdecimal():\n",
    "            return False\n",
    "    if not number[0].isdecimal():\n",
    "        return False\n",
    "    if int(number[0])<6:\n",
    "        return False\n",
    "    return True\n",
    "\n",
    "def findMobNo(text):    \n",
    "    for i in range(len(text)):\n",
    "        string=text[i:i+10]\n",
    "        if isMobilenumber(string):\n",
    "            print('here comes the mobile number: '+string)\n",
    "    print()\n",
    "    \n",
    "findMobNo(comment)"
   ]
  },
  {
   "cell_type": "code",
   "execution_count": 36,
   "metadata": {
    "scrolled": false
   },
   "outputs": [
    {
     "name": "stdout",
     "output_type": "stream",
     "text": [
      "his number is: (777) 777-7777\n"
     ]
    }
   ],
   "source": [
    "phoneNumber=re.compile(r'(\\(\\d\\d\\d\\)) (\\d\\d\\d-\\d\\d\\d\\d)')\n",
    "#   phoneNumber=re.compile(r'(\\(\\d\\d\\d\\)) (\\d\\d\\d-\\d\\d\\d\\d)')\n",
    "mo=phoneNumber.search('sameer has a number for his mobile which is (777) 777-7777')\n",
    "print('his number is: '+mo.group())"
   ]
  },
  {
   "cell_type": "code",
   "execution_count": 37,
   "metadata": {
    "scrolled": false
   },
   "outputs": [],
   "source": [
    "area_code, number=mo.groups()"
   ]
  },
  {
   "cell_type": "code",
   "execution_count": 40,
   "metadata": {},
   "outputs": [
    {
     "data": {
      "text/plain": [
       "'(777)'"
      ]
     },
     "execution_count": 40,
     "metadata": {},
     "output_type": "execute_result"
    }
   ],
   "source": [
    "area_code"
   ]
  },
  {
   "cell_type": "code",
   "execution_count": 79,
   "metadata": {},
   "outputs": [
    {
     "data": {
      "text/plain": [
       "'|rohan'"
      ]
     },
     "execution_count": 79,
     "metadata": {},
     "output_type": "execute_result"
    }
   ],
   "source": [
    "something=re.compile(r'\\|yousameer|\\|rohan')\n",
    "name=something.search(r'something has to be |tyousameer done by |rohan')\n",
    "name.group()"
   ]
  },
  {
   "cell_type": "code",
   "execution_count": 2,
   "metadata": {},
   "outputs": [
    {
     "data": {
      "text/plain": [
       "'man'"
      ]
     },
     "execution_count": 2,
     "metadata": {},
     "output_type": "execute_result"
    }
   ],
   "source": [
    "check=re.compile(r'(s)?he|(wo)?man')\n",
    "result=check.search(r'male is an analyst is a good man or woman')\n",
    "result.group()"
   ]
  },
  {
   "cell_type": "code",
   "execution_count": 45,
   "metadata": {},
   "outputs": [
    {
     "data": {
      "text/plain": [
       "'samr'"
      ]
     },
     "execution_count": 45,
     "metadata": {},
     "output_type": "execute_result"
    }
   ],
   "source": [
    "name=re.compile(r'same*r')\n",
    "mo=name.search('this is samr')\n",
    "mo.group()"
   ]
  },
  {
   "cell_type": "code",
   "execution_count": 13,
   "metadata": {},
   "outputs": [
    {
     "data": {
      "text/plain": [
       "'Batman'"
      ]
     },
     "execution_count": 13,
     "metadata": {},
     "output_type": "execute_result"
    }
   ],
   "source": [
    "batRegex=re.compile(r'Bat(wo)*man')\n",
    "mo=batRegex.search('that is your Batman')\n",
    "mo.group()"
   ]
  }
 ],
 "metadata": {
  "kernelspec": {
   "display_name": "Python 3",
   "language": "python",
   "name": "python3"
  },
  "language_info": {
   "codemirror_mode": {
    "name": "ipython",
    "version": 3
   },
   "file_extension": ".py",
   "mimetype": "text/x-python",
   "name": "python",
   "nbconvert_exporter": "python",
   "pygments_lexer": "ipython3",
   "version": "3.6.5"
  }
 },
 "nbformat": 4,
 "nbformat_minor": 2
}
