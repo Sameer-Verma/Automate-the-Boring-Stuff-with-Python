{
 "cells": [
  {
   "cell_type": "code",
   "execution_count": null,
   "metadata": {},
   "outputs": [],
   "source": [
    "print('enter a number here')\n",
    "try:\n",
    "    number=int(input())\n",
    "except ValueError:\n",
    "    print(\"try again with some int value\")\n",
    "\n",
    "\n",
    "def collatz(number):\n",
    "        if number % 2 == 0:\n",
    "            print(number//2)\n",
    "            return number//2\n",
    "        else:\n",
    "            print(3*number+1)\n",
    "            return 3*number+1\n",
    "\n",
    "while number!=1:\n",
    "        number=collatz(number)"
   ]
  }
 ],
 "metadata": {
  "kernelspec": {
   "display_name": "Python 3",
   "language": "python",
   "name": "python3"
  },
  "language_info": {
   "codemirror_mode": {
    "name": "ipython",
    "version": 3
   },
   "file_extension": ".py",
   "mimetype": "text/x-python",
   "name": "python",
   "nbconvert_exporter": "python",
   "pygments_lexer": "ipython3",
   "version": "3.6.5"
  }
 },
 "nbformat": 4,
 "nbformat_minor": 2
}
